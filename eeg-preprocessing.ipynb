{
 "cells": [
  {
   "cell_type": "code",
   "execution_count": 1,
   "metadata": {},
   "outputs": [],
   "source": [
    "import mne\n",
    "import matplotlib.pyplot as plt\n",
    "import PyQt5\n",
    "import seaborn as sns\n",
    "import numpy as np\n",
    "import pandas as pd\n",
    "import glob\n",
    "from scipy import io, stats"
   ]
  },
  {
   "cell_type": "code",
   "execution_count": 2,
   "metadata": {},
   "outputs": [],
   "source": [
    "plt.switch_backend('QtAgg')"
   ]
  },
  {
   "cell_type": "code",
   "execution_count": 3,
   "metadata": {},
   "outputs": [],
   "source": [
    "def load_eeg(cnt_data, mrk_data, session = 1):\n",
    "    return { \n",
    "        \"clab\": [_[0] for _ in cnt_data[\"cnt\"][0,session-1][\"clab\"][0,0][0]],\n",
    "        \"fs\": cnt_data[\"cnt\"][0,session-1][\"fs\"][0,0][0,0],\n",
    "        \"x\": pd.DataFrame(cnt_data[\"cnt\"][0,session-1][\"x\"][0,0], columns=[_[0] for _ in cnt_data[\"cnt\"][0,session-1][\"clab\"][0,0][0]]) * 1e-6, # conversion from 'uV' to 'V'\n",
    "        \"time\": mrk_data[\"mrk\"][0,session-1][\"time\"][0,0][0] * 1e-3,    # conversion from 'ms' to 's'\n",
    "        \"y\": mrk_data[\"mrk\"][0,session-1][\"y\"][0,0],\n",
    "        \"event\": [_[0] for _ in mrk_data[\"mrk\"][0,session-1][\"event\"][0,0][0,0][0]],\n",
    "        \"className\": [_[0] for _ in mrk_data[\"mrk\"][0,session-1][\"className\"][0,0][0]]\n",
    "    }"
   ]
  },
  {
   "cell_type": "code",
   "execution_count": 4,
   "metadata": {},
   "outputs": [],
   "source": [
    "subject = '04'              # subject id to determine file path\n",
    "\n",
    "tmin, tmax = -5.0, 20.0     # epoch start/end relative to event marker (seconds)\n",
    "baseline = (None, -2.0)     # baseline correction  \n",
    "sfreq = 200                 # sampling frequency of dataset\n",
    "\n",
    "montage = mne.channels.make_standard_montage(\"standard_1005\")   # international 10-5 system\n",
    "\n",
    "ch_names = ['F7', 'AFF5h', 'F3', 'AFp1', 'AFp2', 'AFF6h', 'F4', 'F8', 'AFF1h', 'AFF2h', 'Cz', 'Pz', 'FCC5h', 'FCC3h', 'CCP5h', 'CCP3h', 'T7', 'P7', 'P3', 'PPO1h', 'POO1', 'POO2', 'PPO2h', 'P4', 'FCC4h', 'FCC6h', 'CCP4h', 'CCP6h', 'P8', 'T8', 'VEOG', 'HEOG']   # all data channels\n",
    "\n",
    "ch_types = ['eeg']*30 + ['eog']*2   # first 30 are EEG channels and other 2 are EOG channels"
   ]
  },
  {
   "cell_type": "code",
   "execution_count": 5,
   "metadata": {},
   "outputs": [
    {
     "data": {
      "text/plain": [
       "'../dataset\\\\EEG_01-05\\\\subject 04\\\\with occular artifact\\\\'"
      ]
     },
     "execution_count": 5,
     "metadata": {},
     "output_type": "execute_result"
    }
   ],
   "source": [
    "path = glob.glob(f'../dataset\\\\EEG_[0-2][0-9]-[0-2][0-9]\\\\subject {subject}\\\\with occular artifact\\\\')[0]\n",
    "path"
   ]
  },
  {
   "cell_type": "code",
   "execution_count": 6,
   "metadata": {},
   "outputs": [],
   "source": [
    "%%capture\n",
    "\n",
    "raws = []\n",
    "\n",
    "cnt = io.loadmat(path + 'cnt.mat')\n",
    "mrk = io.loadmat(path + 'mrk.mat')\n",
    "\n",
    "# session 1,3,5 for Dataset A (lhmi/rhmi)\n",
    "# session 2,4,6 for Dateset B (ma/baseline)\n",
    "\n",
    "for session in [1,3,5]:\n",
    "    task = load_eeg(cnt, mrk, session)\n",
    "\n",
    "    sfreq = task[\"fs\"]  # 200Hz\n",
    "    data = task[\"x\"].loc[:, ch_names].values.T # ~ 120,000 samples and ~ 600 seconds\n",
    "    \n",
    "    onset = task[\"time\"]\n",
    "    duration = [tmax - tmin] * len(task[\"time\"])\n",
    "    description = list(map(lambda y: \"cond1\" if y else \"cond2\", task[\"y\"][0]))\n",
    "\n",
    "    # For Dataset A => cond1 = lhmi and cond2 = rhmi\n",
    "    # For Dataset B => cond1 = ma and cond2 = baseline\n",
    "\n",
    "    info = mne.create_info(ch_names=ch_names, sfreq=sfreq, ch_types=ch_types)\n",
    "    annotations = mne.Annotations(onset=onset, duration=duration, description=description)\n",
    "\n",
    "    raw = mne.io.RawArray(data=data, info=info)\n",
    "    raw.set_montage(montage)\n",
    "\n",
    "    raw.set_annotations(annotations)\n",
    "\n",
    "    raws.append(raw)\n",
    "\n",
    "raw = mne.concatenate_raws(raws)"
   ]
  },
  {
   "cell_type": "code",
   "execution_count": 7,
   "metadata": {},
   "outputs": [
    {
     "name": "stdout",
     "output_type": "stream",
     "text": [
      "Using matplotlib as 2D backend.\n",
      "Channels marked as bad:\n",
      "none\n"
     ]
    },
    {
     "data": {
      "text/plain": [
       "<MNEBrowseFigure size 800x800 with 4 Axes>"
      ]
     },
     "execution_count": 7,
     "metadata": {},
     "output_type": "execute_result"
    }
   ],
   "source": [
    "raw.plot(block=True)"
   ]
  },
  {
   "cell_type": "code",
   "execution_count": 8,
   "metadata": {},
   "outputs": [],
   "source": [
    "# raw.plot_sensors(kind='3d', ch_type='eeg', block=True)"
   ]
  },
  {
   "cell_type": "code",
   "execution_count": 9,
   "metadata": {},
   "outputs": [],
   "source": [
    "%%capture\n",
    "\n",
    "mne.set_eeg_reference(raw, ref_channels=\"average\", ch_type='eeg', projection=False)    # common average reference"
   ]
  },
  {
   "cell_type": "code",
   "execution_count": 10,
   "metadata": {},
   "outputs": [],
   "source": [
    "%%capture\n",
    "\n",
    "raw_unfiltered = raw.copy()\n",
    "\n",
    "raw.filter(picks=\"eeg\", l_freq=1, h_freq=40)     # band pass filters\n",
    "\n",
    "fig, ax = plt.subplots(2)\n",
    "\n",
    "raw_unfiltered.plot_psd(ax=ax[0], show=False)\n",
    "raw.plot_psd(ax=ax[1], show=False)\n",
    "\n",
    "ax[0].set_title('PSD before filtering')\n",
    "ax[1].set_title('PSD after filtering')\n",
    "ax[1].set_xlabel('Frequency (Hz)')\n",
    "\n",
    "fig.set_tight_layout(True)\n",
    "\n",
    "plt.show()  # block execution and analyze plots"
   ]
  },
  {
   "cell_type": "code",
   "execution_count": 11,
   "metadata": {},
   "outputs": [],
   "source": [
    "%%capture\n",
    "\n",
    "ica = mne.preprocessing.ICA(\n",
    "    n_components=0.999,\n",
    "    max_iter=500,\n",
    "    method='picard',\n",
    "    fit_params=dict(ortho=True, extended=True),\n",
    "    random_state=42)\n",
    "\n",
    "ica.fit(raw)"
   ]
  },
  {
   "cell_type": "code",
   "execution_count": 12,
   "metadata": {},
   "outputs": [
    {
     "data": {
      "text/plain": [
       "{'eeg': 0.9979896426868188}"
      ]
     },
     "execution_count": 12,
     "metadata": {},
     "output_type": "execute_result"
    }
   ],
   "source": [
    "ica.get_explained_variance_ratio(raw)"
   ]
  },
  {
   "cell_type": "code",
   "execution_count": 13,
   "metadata": {},
   "outputs": [],
   "source": [
    "%%capture\n",
    "\n",
    "eog_epochs = mne.preprocessing.create_eog_epochs(raw, reject=None, baseline=(None, 0), tmin=-0.5, tmax=0.5)\n",
    "eog_evoked = eog_epochs.average()\n",
    "eog_inds, eog_scores = ica.find_bads_eog(eog_epochs)\n",
    "\n",
    "ica.exclude = eog_inds"
   ]
  },
  {
   "cell_type": "code",
   "execution_count": 14,
   "metadata": {},
   "outputs": [
    {
     "data": {
      "text/plain": [
       "[0, 6]"
      ]
     },
     "execution_count": 14,
     "metadata": {},
     "output_type": "execute_result"
    }
   ],
   "source": [
    "ica.exclude"
   ]
  },
  {
   "cell_type": "code",
   "execution_count": 15,
   "metadata": {},
   "outputs": [],
   "source": [
    "%%capture\n",
    "\n",
    "ica.apply(raw)  # Apply ICA"
   ]
  },
  {
   "cell_type": "code",
   "execution_count": 16,
   "metadata": {},
   "outputs": [
    {
     "name": "stdout",
     "output_type": "stream",
     "text": [
      "Channels marked as bad:\n",
      "none\n"
     ]
    },
    {
     "data": {
      "text/plain": [
       "<MNEBrowseFigure size 800x800 with 4 Axes>"
      ]
     },
     "execution_count": 16,
     "metadata": {},
     "output_type": "execute_result"
    }
   ],
   "source": [
    "raw.plot(block=True)"
   ]
  },
  {
   "cell_type": "code",
   "execution_count": 17,
   "metadata": {},
   "outputs": [],
   "source": [
    "%%capture\n",
    "\n",
    "raw_unfiltered = raw.copy()\n",
    "\n",
    "raw.filter(picks=\"eeg\", l_freq=8, h_freq=30)     # band pass filters\n",
    "\n",
    "fig, ax = plt.subplots(2)\n",
    "\n",
    "raw_unfiltered.plot_psd(ax=ax[0], show=False)\n",
    "raw.plot_psd(ax=ax[1], show=False)\n",
    "\n",
    "ax[0].set_title('PSD before filtering')\n",
    "ax[1].set_title('PSD after filtering')\n",
    "ax[1].set_xlabel('Frequency (Hz)')\n",
    "\n",
    "fig.set_tight_layout(True)\n",
    "\n",
    "plt.show()  # block execution and analyze plots"
   ]
  },
  {
   "cell_type": "code",
   "execution_count": 18,
   "metadata": {},
   "outputs": [
    {
     "name": "stdout",
     "output_type": "stream",
     "text": [
      "Used Annotations descriptions: ['cond1', 'cond2']\n"
     ]
    }
   ],
   "source": [
    "events, event_id = mne.events_from_annotations(raw)"
   ]
  },
  {
   "cell_type": "code",
   "execution_count": 19,
   "metadata": {},
   "outputs": [
    {
     "name": "stdout",
     "output_type": "stream",
     "text": [
      "Not setting metadata\n",
      "60 matching events found\n",
      "Setting baseline interval to [-5.0, -2.0] s\n",
      "Applying baseline correction (mode: mean)\n",
      "0 projection items activated\n"
     ]
    }
   ],
   "source": [
    "epochs = mne.Epochs(\n",
    "    raw, \n",
    "    events, \n",
    "    event_id=event_id, \n",
    "    tmin=tmin, \n",
    "    tmax=tmax, \n",
    "    baseline=baseline,\n",
    "    reject_by_annotation=True)"
   ]
  },
  {
   "cell_type": "code",
   "execution_count": 20,
   "metadata": {},
   "outputs": [
    {
     "name": "stdout",
     "output_type": "stream",
     "text": [
      "Using data from preloaded Raw for 60 events and 5001 original time points ...\n",
      "0 bad epochs dropped\n",
      "Using data from preloaded Raw for 1 events and 5001 original time points ...\n",
      "Using data from preloaded Raw for 60 events and 5001 original time points ...\n"
     ]
    }
   ],
   "source": [
    "epochs.save(f\"epochs/subject_{subject}_epo.fif\", overwrite=True)"
   ]
  }
 ],
 "metadata": {
  "kernelspec": {
   "display_name": "cognitive-workload-assessment",
   "language": "python",
   "name": "python3"
  },
  "language_info": {
   "codemirror_mode": {
    "name": "ipython",
    "version": 3
   },
   "file_extension": ".py",
   "mimetype": "text/x-python",
   "name": "python",
   "nbconvert_exporter": "python",
   "pygments_lexer": "ipython3",
   "version": "3.12.1"
  }
 },
 "nbformat": 4,
 "nbformat_minor": 2
}
