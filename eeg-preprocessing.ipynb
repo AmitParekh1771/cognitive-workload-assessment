{
 "cells": [
  {
   "cell_type": "code",
   "execution_count": 1063,
   "metadata": {},
   "outputs": [],
   "source": [
    "import mne\n",
    "import matplotlib.pyplot as plt\n",
    "import PyQt5\n",
    "import seaborn as sns\n",
    "import numpy as np\n",
    "import pandas as pd\n",
    "import glob\n",
    "from scipy import io, stats"
   ]
  },
  {
   "cell_type": "code",
   "execution_count": 1064,
   "metadata": {},
   "outputs": [],
   "source": [
    "plt.switch_backend('QtAgg')"
   ]
  },
  {
   "cell_type": "code",
   "execution_count": 1065,
   "metadata": {},
   "outputs": [],
   "source": [
    "def load_data(cnt_data, mrk_data, session = 1):\n",
    "    return { \n",
    "        \"clab\": [_[0] for _ in cnt_data[\"cnt\"][0,session-1][\"clab\"][0,0][0]],\n",
    "        \"fs\": cnt_data[\"cnt\"][0,session-1][\"fs\"][0,0][0,0],\n",
    "        \"x\": cnt_data[\"cnt\"][0,session-1][\"x\"][0,0] * 1e-6,\n",
    "        \"time\": mrk_data[\"mrk\"][0,session-1][\"time\"][0,0][0] * 1e-3,    # conversion from 'ms' to 's'\n",
    "        \"y\": mrk_data[\"mrk\"][0,session-1][\"y\"][0,0],\n",
    "        \"event\": [_[0] for _ in mrk_data[\"mrk\"][0,session-1][\"event\"][0,0][0,0][0]],\n",
    "        \"className\": [_[0] for _ in mrk_data[\"mrk\"][0,session-1][\"className\"][0,0][0]]\n",
    "    }"
   ]
  },
  {
   "cell_type": "code",
   "execution_count": 1066,
   "metadata": {},
   "outputs": [],
   "source": [
    "dataset = 'A'\n",
    "\n",
    "subject = '29'              # subject id to determine file path\n",
    "\n",
    "tmin, tmax = -5.0, 20.0     # epoch start/end relative to event marker (seconds)\n",
    "baseline = (None, -2.0)     # baseline correction  "
   ]
  },
  {
   "cell_type": "code",
   "execution_count": 1067,
   "metadata": {},
   "outputs": [],
   "source": [
    "%%capture\n",
    "\n",
    "raws = []\n",
    "\n",
    "path = glob.glob(f'../dataset\\\\EEG_[0-2][0-9]-[0-2][0-9]\\\\subject {subject}\\\\with occular artifact\\\\')[0]\n",
    "\n",
    "montage = mne.channels.make_standard_montage(\"standard_1005\")   # international 10-5 system\n",
    "\n",
    "cnt = io.loadmat(path + 'cnt.mat')\n",
    "mrk = io.loadmat(path + 'mrk.mat')\n",
    "\n",
    "# session 1,3,5 for Dataset A (lhmi/rhmi)\n",
    "# session 2,4,6 for Dateset B (ma/baseline)\n",
    "sessions = [1,3,5] if dataset == 'A' else [2,4,6]\n",
    "\n",
    "for session in sessions:\n",
    "    task = load_data(cnt, mrk, session)\n",
    "\n",
    "    sfreq = task[\"fs\"]  # 200Hz\n",
    "    ch_names = task[\"clab\"]\n",
    "    ch_types = list(map(lambda c: \"eog\" if c.endswith(\"EOG\") else \"eeg\", ch_names))\n",
    "\n",
    "    data = task[\"x\"].transpose() # ~ 120,000 samples and ~ 600 seconds\n",
    "    \n",
    "    onset = task[\"time\"]\n",
    "    duration = [10] * len(task[\"time\"])\n",
    "    description = list(map(lambda y: \"cond1\" if y else \"cond2\", task[\"y\"][0]))\n",
    "\n",
    "    # For Dataset A => cond1 = lhmi and cond2 = rhmi\n",
    "    # For Dataset B => cond1 = ma and cond2 = baseline\n",
    "\n",
    "    info = mne.create_info(ch_names=ch_names, sfreq=sfreq, ch_types=ch_types)\n",
    "    annotations = mne.Annotations(onset=onset, duration=duration, description=description)\n",
    "\n",
    "    raw = mne.io.RawArray(data=data, info=info)\n",
    "    raw.set_montage(montage)\n",
    "\n",
    "    raw.set_annotations(annotations)\n",
    "\n",
    "    raws.append(raw)\n",
    "\n",
    "raw = mne.concatenate_raws(raws)"
   ]
  },
  {
   "cell_type": "code",
   "execution_count": 1068,
   "metadata": {},
   "outputs": [],
   "source": [
    "# raw.plot_sensors(kind='3d', ch_type='eeg', block=True)"
   ]
  },
  {
   "cell_type": "code",
   "execution_count": 1069,
   "metadata": {},
   "outputs": [
    {
     "name": "stdout",
     "output_type": "stream",
     "text": [
      "Channels marked as bad:\n",
      "['P8']\n"
     ]
    },
    {
     "data": {
      "text/plain": [
       "<MNEBrowseFigure size 1121x800 with 4 Axes>"
      ]
     },
     "execution_count": 1069,
     "metadata": {},
     "output_type": "execute_result"
    }
   ],
   "source": [
    "raw.plot(block=True)"
   ]
  },
  {
   "cell_type": "code",
   "execution_count": 1070,
   "metadata": {},
   "outputs": [],
   "source": [
    "%%capture\n",
    "raw.interpolate_bads()"
   ]
  },
  {
   "cell_type": "code",
   "execution_count": 1071,
   "metadata": {},
   "outputs": [],
   "source": [
    "raw.info[\"bads\"] = []"
   ]
  },
  {
   "cell_type": "code",
   "execution_count": 1072,
   "metadata": {},
   "outputs": [],
   "source": [
    "%%capture\n",
    "\n",
    "raw.set_eeg_reference(\"average\")    # common average reference"
   ]
  },
  {
   "cell_type": "code",
   "execution_count": 1073,
   "metadata": {},
   "outputs": [],
   "source": [
    "%%capture\n",
    "raw_filtered = raw.copy().filter(l_freq=0.5, h_freq=50)     # band pass filters"
   ]
  },
  {
   "cell_type": "code",
   "execution_count": 1074,
   "metadata": {},
   "outputs": [],
   "source": [
    "%%capture\n",
    "\n",
    "raw_ica = raw.copy().filter(l_freq=1.0, h_freq=None)\n",
    "\n",
    "ica = mne.preprocessing.ICA(\n",
    "    n_components=0.999,\n",
    "    max_iter=500,\n",
    "    method='picard',\n",
    "    fit_params=dict(ortho=True, extended=True),\n",
    "    random_state=42)\n",
    "\n",
    "ica.fit(raw_ica)"
   ]
  },
  {
   "cell_type": "code",
   "execution_count": 1075,
   "metadata": {},
   "outputs": [],
   "source": [
    "%%capture\n",
    "\n",
    "eog_epochs = mne.preprocessing.create_eog_epochs(raw_ica, reject=None, baseline=(None, 0), tmin=-0.5, tmax=0.5)\n",
    "eog_evoked = eog_epochs.average()\n",
    "eog_inds, eog_scores = ica.find_bads_eog(eog_epochs)\n",
    "\n",
    "ica.exclude = eog_inds"
   ]
  },
  {
   "cell_type": "code",
   "execution_count": 1076,
   "metadata": {},
   "outputs": [
    {
     "data": {
      "text/plain": [
       "[]"
      ]
     },
     "execution_count": 1076,
     "metadata": {},
     "output_type": "execute_result"
    }
   ],
   "source": [
    "ica.exclude"
   ]
  },
  {
   "cell_type": "code",
   "execution_count": 1077,
   "metadata": {},
   "outputs": [
    {
     "name": "stdout",
     "output_type": "stream",
     "text": [
      "Creating RawArray with float64 data, n_channels=26, n_times=360903\n",
      "    Range : 0 ... 360902 =      0.000 ...  1804.510 secs\n",
      "Ready.\n"
     ]
    },
    {
     "data": {
      "text/plain": [
       "<MNEBrowseFigure size 1121x800 with 4 Axes>"
      ]
     },
     "execution_count": 1077,
     "metadata": {},
     "output_type": "execute_result"
    }
   ],
   "source": [
    "ica.plot_sources(raw_ica, block=True)"
   ]
  },
  {
   "cell_type": "code",
   "execution_count": 1078,
   "metadata": {},
   "outputs": [
    {
     "data": {
      "text/plain": [
       "[0]"
      ]
     },
     "execution_count": 1078,
     "metadata": {},
     "output_type": "execute_result"
    }
   ],
   "source": [
    "ica.exclude"
   ]
  },
  {
   "cell_type": "code",
   "execution_count": 1079,
   "metadata": {},
   "outputs": [],
   "source": [
    "%%capture\n",
    "\n",
    "ica.apply(raw_filtered)  # Apply ICA"
   ]
  },
  {
   "cell_type": "code",
   "execution_count": 1080,
   "metadata": {},
   "outputs": [
    {
     "name": "stdout",
     "output_type": "stream",
     "text": [
      "Channels marked as bad:\n",
      "none\n"
     ]
    },
    {
     "data": {
      "text/plain": [
       "<MNEBrowseFigure size 1121x800 with 4 Axes>"
      ]
     },
     "execution_count": 1080,
     "metadata": {},
     "output_type": "execute_result"
    }
   ],
   "source": [
    "raw_filtered.plot(block=True)"
   ]
  },
  {
   "cell_type": "code",
   "execution_count": 1081,
   "metadata": {},
   "outputs": [],
   "source": [
    "%%capture\n",
    "raw_filtered.interpolate_bads()"
   ]
  },
  {
   "cell_type": "code",
   "execution_count": 1082,
   "metadata": {},
   "outputs": [],
   "source": [
    "raw_filtered.info[\"bads\"] = []"
   ]
  },
  {
   "cell_type": "code",
   "execution_count": 1083,
   "metadata": {},
   "outputs": [],
   "source": [
    "%%capture\n",
    "\n",
    "# raw_unfiltered = raw.copy()\n",
    "\n",
    "raw_filtered.filter(picks=\"eeg\", l_freq=8, h_freq=30, method=\"iir\" , iir_params=None)     # band pass filters\n",
    "\n",
    "# fig, ax = plt.subplots(2)\n",
    "\n",
    "# raw_unfiltered.plot_psd(ax=ax[0], show=False)\n",
    "# raw.plot_psd(ax=ax[1], show=False)\n",
    "\n",
    "# ax[0].set_title('PSD before filtering')\n",
    "# ax[1].set_title('PSD after filtering')\n",
    "# ax[1].set_xlabel('Frequency (Hz)')\n",
    "\n",
    "# fig.set_tight_layout(True)\n",
    "\n",
    "# plt.show()  # block execution and analyze plots"
   ]
  },
  {
   "cell_type": "code",
   "execution_count": 1084,
   "metadata": {},
   "outputs": [
    {
     "name": "stdout",
     "output_type": "stream",
     "text": [
      "Used Annotations descriptions: ['cond1', 'cond2']\n"
     ]
    }
   ],
   "source": [
    "events, event_id = mne.events_from_annotations(raw_filtered)"
   ]
  },
  {
   "cell_type": "code",
   "execution_count": 1085,
   "metadata": {},
   "outputs": [
    {
     "name": "stdout",
     "output_type": "stream",
     "text": [
      "Not setting metadata\n",
      "60 matching events found\n",
      "Setting baseline interval to [-5.0, -2.0] s\n",
      "Applying baseline correction (mode: mean)\n",
      "0 projection items activated\n"
     ]
    }
   ],
   "source": [
    "epochs = mne.Epochs(\n",
    "    raw_filtered, \n",
    "    events, \n",
    "    event_id=event_id, \n",
    "    tmin=tmin, \n",
    "    tmax=tmax, \n",
    "    baseline=baseline,\n",
    "    reject_by_annotation=True)"
   ]
  },
  {
   "cell_type": "code",
   "execution_count": 1086,
   "metadata": {},
   "outputs": [
    {
     "name": "stdout",
     "output_type": "stream",
     "text": [
      "Overwriting existing file.\n",
      "Using data from preloaded Raw for 60 events and 5001 original time points ...\n",
      "0 bad epochs dropped\n",
      "Using data from preloaded Raw for 1 events and 5001 original time points ...\n",
      "Overwriting existing file.\n",
      "Using data from preloaded Raw for 60 events and 5001 original time points ...\n"
     ]
    }
   ],
   "source": [
    "epochs.save(f\"epochs_eeg/Dataset_{dataset}/subject_{subject}_epo.fif\", overwrite=True)"
   ]
  }
 ],
 "metadata": {
  "kernelspec": {
   "display_name": "cognitive-workload-assessment",
   "language": "python",
   "name": "python3"
  },
  "language_info": {
   "codemirror_mode": {
    "name": "ipython",
    "version": 3
   },
   "file_extension": ".py",
   "mimetype": "text/x-python",
   "name": "python",
   "nbconvert_exporter": "python",
   "pygments_lexer": "ipython3",
   "version": "3.12.1"
  }
 },
 "nbformat": 4,
 "nbformat_minor": 2
}
