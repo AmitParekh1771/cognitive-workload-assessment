{
 "cells": [
  {
   "cell_type": "code",
   "execution_count": 572,
   "metadata": {},
   "outputs": [],
   "source": [
    "import mne\n",
    "import matplotlib.pyplot as plt\n",
    "import PyQt5\n",
    "import seaborn as sns\n",
    "import numpy as np\n",
    "import pandas as pd\n",
    "import glob\n",
    "from scipy import io, stats"
   ]
  },
  {
   "cell_type": "code",
   "execution_count": 573,
   "metadata": {},
   "outputs": [],
   "source": [
    "plt.switch_backend('QtAgg')"
   ]
  },
  {
   "cell_type": "code",
   "execution_count": 574,
   "metadata": {},
   "outputs": [],
   "source": [
    "def load_data(cnt_data, mrk_data, session = 1):\n",
    "    return { \n",
    "        \"clab\": [_[0] for _ in cnt_data[\"cnt\"][0,session-1][\"clab\"][0,0][0]],\n",
    "        \"fs\": cnt_data[\"cnt\"][0,session-1][\"fs\"][0,0][0,0],\n",
    "        \"x\": cnt_data[\"cnt\"][0,session-1][\"x\"][0,0],\n",
    "        \"time\": mrk_data[\"mrk\"][0,session-1][\"time\"][0,0][0] * 1e-3,    # conversion from 'ms' to 's'\n",
    "        \"y\": mrk_data[\"mrk\"][0,session-1][\"y\"][0,0],\n",
    "        \"event\": [_[0] for _ in mrk_data[\"mrk\"][0,session-1][\"event\"][0,0][0,0][0]],\n",
    "        \"className\": [_[0] for _ in mrk_data[\"mrk\"][0,session-1][\"className\"][0,0][0]]\n",
    "    }"
   ]
  },
  {
   "cell_type": "code",
   "execution_count": 575,
   "metadata": {},
   "outputs": [],
   "source": [
    "dataset = 'A'\n",
    "\n",
    "subject = '29'              # subject id to determine file path\n",
    "\n",
    "tmin, tmax = -5.0, 20.0     # epoch start/end relative to event marker (seconds)\n",
    "baseline = (None, -2.0)     # baseline correction  "
   ]
  },
  {
   "cell_type": "code",
   "execution_count": 576,
   "metadata": {},
   "outputs": [],
   "source": [
    "channels = {\n",
    "    'AF7Fp1lowWL': 'S1_D0 760',\n",
    "    'AF3Fp1lowWL': 'S2_D0 760',\n",
    "    'AF3AFzlowWL': 'S2_D1 760',\n",
    "    'FpzFp1lowWL': 'S3_D0 760',\n",
    "    'FpzAFzlowWL': 'S3_D1 760',\n",
    "    'FpzFp2lowWL': 'S3_D2 760',\n",
    "    'AF4AFzlowWL': 'S4_D1 760',\n",
    "    'AF4Fp2lowWL': 'S4_D2 760',\n",
    "    'AF8Fp2lowWL': 'S5_D2 760',\n",
    "    'OzPOzlowWL': 'S6_D3 760',\n",
    "    'OzO1lowWL': 'S6_D5 760',\n",
    "    'OzO2lowWL': 'S6_D6 760',\n",
    "    'C5CP5lowWL': 'S8_D4 760',\n",
    "    'C5FC5lowWL': 'S8_D8 760',\n",
    "    'C5C3lowWL': 'S8_D9 760',\n",
    "    'FC3FC5lowWL': 'S9_D8 760',\n",
    "    'FC3C3lowWL': 'S9_D9 760',\n",
    "    'FC3FC1lowWL': 'S9_D10 760',\n",
    "    'CP3CP5lowWL': 'S10_D4 760',\n",
    "    'CP3C3lowWL': 'S10_D9 760',\n",
    "    'CP3CP1lowWL': 'S10_D11 760',\n",
    "    'C1C3lowWL': 'S11_D9 760',\n",
    "    'C1FC1lowWL': 'S11_D10 760',\n",
    "    'C1CP1lowWL': 'S11_D11 760',\n",
    "    'C2FC2lowWL': 'S12_D12 760',\n",
    "    'C2CP2lowWL': 'S12_D13 760',\n",
    "    'C2C4lowWL': 'S12_D14 760',\n",
    "    'FC4FC2lowWL': 'S13_D12 760',\n",
    "    'FC4C4lowWL': 'S13_D14 760',\n",
    "    'FC4FC6lowWL': 'S13_D15 760',\n",
    "    'CP4CP6lowWL': 'S14_D7 760',\n",
    "    'CP4CP2lowWL': 'S14_D13 760',\n",
    "    'CP4C4lowWL': 'S14_D14 760',\n",
    "    'C6CP6lowWL': 'S15_D7 760',\n",
    "    'C6C4lowWL': 'S15_D14 760',\n",
    "    'C6FC6lowWL': 'S15_D15 760',\n",
    "    'AF7Fp1highWL': 'S1_D0 850',\n",
    "    'AF3Fp1highWL': 'S2_D0 850',\n",
    "    'AF3AFzhighWL': 'S2_D1 850',\n",
    "    'FpzFp1highWL': 'S3_D0 850',\n",
    "    'FpzAFzhighWL': 'S3_D1 850',\n",
    "    'FpzFp2highWL': 'S3_D2 850',\n",
    "    'AF4AFzhighWL': 'S4_D1 850',\n",
    "    'AF4Fp2highWL': 'S4_D2 850',\n",
    "    'AF8Fp2highWL': 'S5_D2 850',\n",
    "    'OzPOzhighWL': 'S6_D3 850',\n",
    "    'OzO1highWL': 'S6_D5 850',\n",
    "    'OzO2highWL': 'S6_D6 850',\n",
    "    'C5CP5highWL': 'S8_D4 850',\n",
    "    'C5FC5highWL': 'S8_D8 850',\n",
    "    'C5C3highWL': 'S8_D9 850',\n",
    "    'FC3FC5highWL': 'S9_D8 850',\n",
    "    'FC3C3highWL': 'S9_D9 850',\n",
    "    'FC3FC1highWL': 'S9_D10 850',\n",
    "    'CP3CP5highWL': 'S10_D4 850',\n",
    "    'CP3C3highWL': 'S10_D9 850',\n",
    "    'CP3CP1highWL': 'S10_D11 850',\n",
    "    'C1C3highWL': 'S11_D9 850',\n",
    "    'C1FC1highWL': 'S11_D10 850',\n",
    "    'C1CP1highWL': 'S11_D11 850',\n",
    "    'C2FC2highWL': 'S12_D12 850',\n",
    "    'C2CP2highWL': 'S12_D13 850',\n",
    "    'C2C4highWL': 'S12_D14 850',\n",
    "    'FC4FC2highWL': 'S13_D12 850',\n",
    "    'FC4C4highWL': 'S13_D14 850',\n",
    "    'FC4FC6highWL': 'S13_D15 850',\n",
    "    'CP4CP6highWL': 'S14_D7 850',\n",
    "    'CP4CP2highWL': 'S14_D13 850',\n",
    "    'CP4C4highWL': 'S14_D14 850',\n",
    "    'C6CP6highWL': 'S15_D7 850',\n",
    "    'C6C4highWL': 'S15_D14 850',\n",
    "    'C6FC6highWL': 'S15_D15 850'\n",
    "}"
   ]
  },
  {
   "cell_type": "code",
   "execution_count": 577,
   "metadata": {},
   "outputs": [],
   "source": [
    "mnt = io.loadmat(f'../dataset\\\\NIRS_01-29\\\\subject {subject}\\\\mnt.mat')\n",
    "\n",
    "ch_pos = {}\n",
    "\n",
    "sources = [_[0] for _ in mnt[\"mnt\"][\"source\"][0,0][\"clab\"][0,0][0]]\n",
    "detectors = [_[0] for _ in mnt[\"mnt\"][\"detector\"][0,0][\"clab\"][0,0][0]]\n",
    "\n",
    "for ch_idx in range(len(sources)):\n",
    "    if sources[ch_idx] != \"-\":\n",
    "        ch_pos[f\"S{ch_idx}\"] = mnt[\"mnt\"][\"source\"][0,0][\"pos_3d\"][0,0][:, ch_idx] * 1e-1\n",
    "\n",
    "for ch_idx in range(len(detectors)):\n",
    "    if detectors[ch_idx] != \"-\":\n",
    "        ch_pos[f\"D{ch_idx}\"] = mnt[\"mnt\"][\"detector\"][0,0][\"pos_3d\"][0,0][:, ch_idx] * 1e-1\n",
    "\n",
    "montage = mne.channels.make_dig_montage(ch_pos=ch_pos)"
   ]
  },
  {
   "cell_type": "code",
   "execution_count": 578,
   "metadata": {},
   "outputs": [],
   "source": [
    "%%capture\n",
    "\n",
    "raws = []\n",
    "\n",
    "cnt = io.loadmat(f'../dataset\\\\NIRS_01-29\\\\subject {subject}\\\\cnt.mat')\n",
    "mrk = io.loadmat(f'../dataset\\\\NIRS_01-29\\\\subject {subject}\\\\mrk.mat')\n",
    "\n",
    "# session 1,3,5 for Dataset A (lhmi/rhmi)\n",
    "# session 2,4,6 for Dateset B (ma/baseline)\n",
    "sessions = [1,3,5] if dataset == 'A' else [2,4,6]\n",
    "\n",
    "for session in sessions:\n",
    "    task = load_data(cnt, mrk, session)\n",
    "\n",
    "    sfreq = task[\"fs\"]  # 10Hz\n",
    "    ch_names = [ch for ch in channels.values()]\n",
    "    \n",
    "    ch_types = [\"fnirs_cw_amplitude\"] * len(channels)\n",
    "\n",
    "    data = task[\"x\"].transpose() # ~ 120,000 samples and ~ 600 seconds\n",
    "    \n",
    "    sorted_data = np.empty(data.shape)\n",
    "    sorted_ch_names = []\n",
    "\n",
    "    for i in range(int(len(ch_names)/2)):\n",
    "        sorted_data[2*i] = data[i]\n",
    "        sorted_data[2*i+1] = data[i+36]\n",
    "        sorted_ch_names.append(ch_names[i])\n",
    "        sorted_ch_names.append(ch_names[i+36])\n",
    "\n",
    "    onset = task[\"time\"]\n",
    "    duration = [10] * len(task[\"time\"])\n",
    "    description = list(map(lambda y: \"cond1\" if y else \"cond2\", task[\"y\"][0]))\n",
    "\n",
    "    # For Dataset A => cond1 = lhmi and cond2 = rhmi\n",
    "    # For Dataset B => cond1 = ma and cond2 = baseline\n",
    "\n",
    "    info = mne.create_info(ch_names=sorted_ch_names, sfreq=sfreq, ch_types=ch_types)\n",
    "\n",
    "    for ch in range(len(sorted_ch_names)):\n",
    "        info[\"chs\"][ch][\"loc\"][9] = 760 if sorted_ch_names[ch].endswith(\"760\") else 850\n",
    "\n",
    "    annotations = mne.Annotations(onset=onset, duration=duration, description=description)\n",
    "\n",
    "    raw = mne.io.RawArray(data=sorted_data, info=info)\n",
    "\n",
    "    raw.set_annotations(annotations)\n",
    "    raw.set_montage(montage)\n",
    "    \n",
    "    raws.append(raw)\n",
    "\n",
    "raw = mne.concatenate_raws(raws)"
   ]
  },
  {
   "cell_type": "code",
   "execution_count": 579,
   "metadata": {},
   "outputs": [],
   "source": [
    "# raw.plot(block=True, duration=500, n_channels=len(raw.ch_names)//3)"
   ]
  },
  {
   "cell_type": "code",
   "execution_count": 580,
   "metadata": {},
   "outputs": [],
   "source": [
    "# dists = mne.preprocessing.nirs.source_detector_distances(raw.info)\n",
    "# dists"
   ]
  },
  {
   "cell_type": "code",
   "execution_count": 581,
   "metadata": {},
   "outputs": [],
   "source": [
    "raw = mne.preprocessing.nirs.optical_density(raw)"
   ]
  },
  {
   "cell_type": "code",
   "execution_count": 582,
   "metadata": {},
   "outputs": [],
   "source": [
    "# raw.plot(block=True, duration=500)"
   ]
  },
  {
   "cell_type": "code",
   "execution_count": 583,
   "metadata": {},
   "outputs": [],
   "source": [
    "sci = mne.preprocessing.nirs.scalp_coupling_index(raw)\n",
    "# fig, ax = plt.subplots(layout=\"constrained\")\n",
    "# ax.hist(sci)\n",
    "# ax.set(xlabel=\"Scalp Coupling Index\", ylabel=\"Count\", xlim=[0, 1])\n",
    "# plt.show()"
   ]
  },
  {
   "cell_type": "code",
   "execution_count": 584,
   "metadata": {},
   "outputs": [],
   "source": [
    "raw.info[\"bads\"] = [raw.ch_names[i] for i in range(len(raw.ch_names)) if sci[i] < 0.5]"
   ]
  },
  {
   "cell_type": "code",
   "execution_count": 585,
   "metadata": {},
   "outputs": [],
   "source": [
    "# raw.plot()"
   ]
  },
  {
   "cell_type": "code",
   "execution_count": 586,
   "metadata": {},
   "outputs": [
    {
     "name": "stderr",
     "output_type": "stream",
     "text": [
      "C:\\Users\\parek\\AppData\\Local\\Temp\\ipykernel_19720\\395111973.py:1: RuntimeWarning: Source-detector distances are greater than 10 cm. Large distances will result in invalid data, and are likely due to optode locations being stored in a  unit other than meters.\n",
      "  raw = mne.preprocessing.nirs.beer_lambert_law(raw, ppf=0.1)\n"
     ]
    }
   ],
   "source": [
    "raw = mne.preprocessing.nirs.beer_lambert_law(raw, ppf=0.1)"
   ]
  },
  {
   "cell_type": "code",
   "execution_count": 587,
   "metadata": {},
   "outputs": [],
   "source": [
    "%%capture\n",
    "\n",
    "# raw_unfiltered = raw.copy()\n",
    "\n",
    "raw.filter(picks=\"all\", l_freq=0.01, h_freq=0.1, method=\"iir\" , iir_params=None)     # band pass filters\n",
    "\n",
    "# fig, ax = plt.subplots(2)\n",
    "\n",
    "# raw_unfiltered.plot_psd(ax=ax[0], show=False)\n",
    "# raw.plot_psd(ax=ax[1], show=False)\n",
    "\n",
    "# ax[0].set_title('PSD before filtering')\n",
    "# ax[1].set_title('PSD after filtering')\n",
    "# ax[1].set_xlabel('Frequency (Hz)')\n",
    "\n",
    "# fig.set_tight_layout(True)\n",
    "\n",
    "# plt.show()  # block execution and analyze plots"
   ]
  },
  {
   "cell_type": "code",
   "execution_count": 588,
   "metadata": {},
   "outputs": [
    {
     "name": "stdout",
     "output_type": "stream",
     "text": [
      "Used Annotations descriptions: ['cond1', 'cond2']\n"
     ]
    }
   ],
   "source": [
    "events, event_id = mne.events_from_annotations(raw)"
   ]
  },
  {
   "cell_type": "code",
   "execution_count": 589,
   "metadata": {},
   "outputs": [
    {
     "name": "stdout",
     "output_type": "stream",
     "text": [
      "Not setting metadata\n",
      "60 matching events found\n",
      "Setting baseline interval to [-5.0, -2.0] s\n",
      "Applying baseline correction (mode: mean)\n",
      "0 projection items activated\n"
     ]
    }
   ],
   "source": [
    "epochs = mne.Epochs(\n",
    "    raw, \n",
    "    events, \n",
    "    event_id=event_id, \n",
    "    tmin=tmin, \n",
    "    tmax=tmax, \n",
    "    baseline=baseline,\n",
    "    reject_by_annotation=True)"
   ]
  },
  {
   "cell_type": "code",
   "execution_count": 590,
   "metadata": {},
   "outputs": [
    {
     "name": "stdout",
     "output_type": "stream",
     "text": [
      "Overwriting existing file.\n",
      "Using data from preloaded Raw for 60 events and 251 original time points ...\n",
      "0 bad epochs dropped\n",
      "Using data from preloaded Raw for 1 events and 251 original time points ...\n",
      "Overwriting existing file.\n",
      "Using data from preloaded Raw for 60 events and 251 original time points ...\n"
     ]
    }
   ],
   "source": [
    "epochs.save(f\"epochs_fnirs/Dataset_{dataset}/subject_{subject}_epo.fif\", overwrite=True)"
   ]
  }
 ],
 "metadata": {
  "kernelspec": {
   "display_name": "cognitive-workload-assessment",
   "language": "python",
   "name": "python3"
  },
  "language_info": {
   "codemirror_mode": {
    "name": "ipython",
    "version": 3
   },
   "file_extension": ".py",
   "mimetype": "text/x-python",
   "name": "python",
   "nbconvert_exporter": "python",
   "pygments_lexer": "ipython3",
   "version": "3.12.1"
  }
 },
 "nbformat": 4,
 "nbformat_minor": 2
}
